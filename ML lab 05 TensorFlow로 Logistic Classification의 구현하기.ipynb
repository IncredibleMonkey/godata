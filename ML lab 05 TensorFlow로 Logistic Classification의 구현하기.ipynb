{
 "cells": [
  {
   "cell_type": "markdown",
   "metadata": {},
   "source": [
    "이번 강의에서는 Logistic Classfication(분류문제)를 다룬다.<br>\n",
    "이번 강의에서 집중해야하는 부분은 로지스틱 분류의 hypothesis와 cost function 공식의 특징이다.<br><br>\n",
    "이론에 대한 설명정리 : <br>\n",
    "https://docs.google.com/document/d/1nro5Xpkex6PSg92uW7iruz4hi2wtrh6a6yISxvGCm24/edit?usp=sharing"
   ]
  },
  {
   "cell_type": "code",
   "execution_count": 85,
   "metadata": {},
   "outputs": [],
   "source": [
    "import tensorflow as tf"
   ]
  },
  {
   "cell_type": "markdown",
   "metadata": {},
   "source": [
    "11분 50초 코드 따라하기"
   ]
  },
  {
   "cell_type": "code",
   "execution_count": 86,
   "metadata": {},
   "outputs": [],
   "source": [
    "x_data = [[1, 2],[2, 3],[3, 1],[4, 3],[5, 3],[6, 2]]\n",
    "y_data = [[0], [0], [0], [1], [1], [1]]"
   ]
  },
  {
   "cell_type": "code",
   "execution_count": 87,
   "metadata": {},
   "outputs": [],
   "source": [
    "X = tf.placeholder(tf.float32, shape=[None,2])\n",
    "Y = tf.placeholder(tf.float32, shape=[None,1])"
   ]
  },
  {
   "cell_type": "markdown",
   "metadata": {},
   "source": [
    "tf.float32가 의미하는 바는 뭐지?"
   ]
  },
  {
   "cell_type": "code",
   "execution_count": 88,
   "metadata": {},
   "outputs": [],
   "source": [
    "W = tf.Variable(tf.random_normal([2,1]), name ='weight')"
   ]
  },
  {
   "cell_type": "markdown",
   "metadata": {},
   "source": [
    "W는 X와 W의 행렬곱에서 뒤에 위치했으므로 세로형태로 값이 입력되어야 한다.<br>\n",
    "이런 식으로... <br>\n",
    " (2 <br>\n",
    "  3 <br>\n",
    "  5)"
   ]
  },
  {
   "cell_type": "code",
   "execution_count": 89,
   "metadata": {},
   "outputs": [],
   "source": [
    "b = tf.Variable(tf.random_normal([1]), name='bias')"
   ]
  },
  {
   "cell_type": "code",
   "execution_count": 90,
   "metadata": {},
   "outputs": [],
   "source": [
    "hypothesis = tf.sigmoid(tf.matmul(X,W) + b)"
   ]
  },
  {
   "cell_type": "markdown",
   "metadata": {},
   "source": [
    "* Logistic Classfication의 hypothesis에는 sigmoid라는 함수가 들어간다.<br>\n",
    "이 함수를 이용하면 값을 0~1 범위로 축소시킬 수 있다. 따라서 0과 1로 표현되는 분류문제에 적합해진다.<br><br>\n",
    "\n",
    "* 행렬형태로 나타내는 값은 모두 대문자 알파벳으로 표현한다. 그래서 가중치(w)를 W로 표현했다.<br><br>\n",
    "\n",
    "* tf.matmul(X,W)와 같이 행렬곱을 할 때에는 계산되는 앞 부분에서는 가로형태의 행렬로, 뒷 부분은 세로형태로 값을 입력받는다<br>\n",
    "일반적으로 수식을 적을 때는 y=wx+b라고 표현하는데 행렬에서는 X,W로 표현된다는 것을 기억하자\n",
    "\n"
   ]
  },
  {
   "cell_type": "code",
   "execution_count": 91,
   "metadata": {},
   "outputs": [],
   "source": [
    "cost = tf.reduce_mean(-Y * tf.log(hypothesis) - (1 - Y) * tf.log(1-hypothesis))"
   ]
  },
  {
   "cell_type": "markdown",
   "metadata": {},
   "source": [
    "이론강의에서 공부하면 알겠지만,<br>\n",
    "로지스틱 분류에서 cost 공식은 두 덩어리로 나눌 수 있다.<br>\n",
    "분류된 값이 1이 된 경우와 0이 된 경우이다. 이에 따라 공식도 나뉘어진다.<br>\n",
    "\n",
    "1인 경우 : -y*log(hypothesis) <br>\n",
    "0인 경우 : -(1-y)*log(hypotehsis) <br>\n",
    "\n",
    "위 코드에서는 두 공식을 합친 후 평균으로 나눈 것이다.\n",
    "\n",
    "**** 1인 경우, 2인 경우의 식의 앞에 각각 마이너스(-)가 붙어있는데 그래프로 생각하면 이해하기 쉽다.(로그그래프를 그려보고 -로그그래프도 그려보자 : 이론노트에 그려놨다.)<br>"
   ]
  },
  {
   "cell_type": "code",
   "execution_count": 92,
   "metadata": {},
   "outputs": [],
   "source": [
    "train = tf.train.GradientDescentOptimizer(0.01).minimize(cost)"
   ]
  },
  {
   "cell_type": "code",
   "execution_count": 93,
   "metadata": {},
   "outputs": [],
   "source": [
    "predicted = tf.cast(hypothesis > 0.5, dtype=tf.float32)"
   ]
  },
  {
   "cell_type": "markdown",
   "metadata": {},
   "source": [
    "분류 문제에서는 0 또는 1로 값을 출력받으려 한다.<br>\n",
    "하지만 현재 hypothesis는 시그모이드 함수로 둘러싸여 있어서 0부터 1까지의 값으로 출력이 된다.<br>\n",
    "따라서 float32로 캐스팅하여 0 또는 1의 값으로 변환시킬 수 있다.<br><br>\n",
    "\n",
    "그런데 float32로 캐스팅 다는게 무슨 의미지? float이면 그냥 실수형 자료형..아닌가? 이 글 읽는 사람 있으면 알려주세요~\n",
    "\n"
   ]
  },
  {
   "cell_type": "code",
   "execution_count": 94,
   "metadata": {},
   "outputs": [],
   "source": [
    "accuracy = tf.reduce_mean(tf.cast(tf.equal(predicted, Y), dtype=tf.float32))"
   ]
  },
  {
   "cell_type": "markdown",
   "metadata": {},
   "source": [
    "hypothesis의 정확도를 측정한다.<br>\n",
    "정답과 예측값의 일치정도를 0과 1로 캐스팅하여 나타낸 뒤에 일치한 개수를 평균으로 나타낸다."
   ]
  },
  {
   "cell_type": "code",
   "execution_count": 95,
   "metadata": {},
   "outputs": [],
   "source": [
    "sess = tf.Session()\n",
    "sess.run(tf.global_variables_initializer())"
   ]
  },
  {
   "cell_type": "code",
   "execution_count": 98,
   "metadata": {},
   "outputs": [
    {
     "name": "stdout",
     "output_type": "stream",
     "text": [
      "0 0.14447111\n",
      "2000 0.12616883\n",
      "4000 0.112033136\n",
      "6000 0.10079437\n",
      "8000 0.091645606\n",
      "10000 0.08405251\n"
     ]
    }
   ],
   "source": [
    "for step in range(10001):\n",
    "    cost_val, _ = sess.run([cost,train], feed_dict={X:x_data, Y:y_data})\n",
    "    if step % 2000 == 0:\n",
    "        print(step, cost_val)"
   ]
  },
  {
   "cell_type": "code",
   "execution_count": 102,
   "metadata": {},
   "outputs": [
    {
     "data": {
      "text/plain": [
       "1.0"
      ]
     },
     "execution_count": 102,
     "metadata": {},
     "output_type": "execute_result"
    }
   ],
   "source": [
    "sess.run(accuracy, feed_dict={X:x_data,Y:y_data})"
   ]
  },
  {
   "cell_type": "markdown",
   "metadata": {},
   "source": [
    "정확도는 당연히 1에 가까울수록 좋다! 만세@@"
   ]
  },
  {
   "cell_type": "code",
   "execution_count": null,
   "metadata": {},
   "outputs": [],
   "source": []
  },
  {
   "cell_type": "code",
   "execution_count": null,
   "metadata": {},
   "outputs": [],
   "source": []
  },
  {
   "cell_type": "code",
   "execution_count": null,
   "metadata": {},
   "outputs": [],
   "source": []
  },
  {
   "cell_type": "code",
   "execution_count": null,
   "metadata": {},
   "outputs": [],
   "source": []
  },
  {
   "cell_type": "code",
   "execution_count": null,
   "metadata": {},
   "outputs": [],
   "source": []
  },
  {
   "cell_type": "code",
   "execution_count": null,
   "metadata": {},
   "outputs": [],
   "source": []
  },
  {
   "cell_type": "code",
   "execution_count": null,
   "metadata": {},
   "outputs": [],
   "source": []
  },
  {
   "cell_type": "code",
   "execution_count": null,
   "metadata": {},
   "outputs": [],
   "source": []
  },
  {
   "cell_type": "code",
   "execution_count": null,
   "metadata": {},
   "outputs": [],
   "source": []
  },
  {
   "cell_type": "code",
   "execution_count": null,
   "metadata": {},
   "outputs": [],
   "source": []
  }
 ],
 "metadata": {
  "kernelspec": {
   "display_name": "Python 3",
   "language": "python",
   "name": "python3"
  },
  "language_info": {
   "codemirror_mode": {
    "name": "ipython",
    "version": 3
   },
   "file_extension": ".py",
   "mimetype": "text/x-python",
   "name": "python",
   "nbconvert_exporter": "python",
   "pygments_lexer": "ipython3",
   "version": "3.6.8"
  }
 },
 "nbformat": 4,
 "nbformat_minor": 2
}
