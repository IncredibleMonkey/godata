{
 "cells": [
  {
   "cell_type": "markdown",
   "metadata": {},
   "source": [
    "## 이번 챕터 이해되지 않는 부분이 많음. 스터디 후에 채워놓기로!!"
   ]
  },
  {
   "cell_type": "code",
   "execution_count": 2,
   "metadata": {},
   "outputs": [],
   "source": [
    "import tensorflow as tf"
   ]
  },
  {
   "cell_type": "code",
   "execution_count": 3,
   "metadata": {},
   "outputs": [],
   "source": [
    "nb_classes = 7"
   ]
  },
  {
   "cell_type": "markdown",
   "metadata": {},
   "source": [
    "레이블이 7열을 갖는다는 의미다."
   ]
  },
  {
   "cell_type": "code",
   "execution_count": 4,
   "metadata": {},
   "outputs": [],
   "source": [
    "X = tf.placeholder(tf.float32, [None,16])"
   ]
  },
  {
   "cell_type": "markdown",
   "metadata": {},
   "source": [
    "16이 들어간 이유는 강의에서 다뤘던 설명 데이터의 종류가 16개였기 때문이다."
   ]
  },
  {
   "cell_type": "code",
   "execution_count": 5,
   "metadata": {},
   "outputs": [],
   "source": [
    "Y= tf.placeholder(tf.int32, [None,1])"
   ]
  },
  {
   "cell_type": "markdown",
   "metadata": {},
   "source": [
    "int32를 사용했는데 32는 어떤 의미인지 모르겠고. float이 아닌 int를 사용한 이유는 비교적 명확하다.<br>\n",
    "개미, 파리를 분류하는데 개미.4가 되면 안되니까.(소수점 표현)"
   ]
  },
  {
   "cell_type": "code",
   "execution_count": 6,
   "metadata": {},
   "outputs": [],
   "source": [
    "Y_one_hot = tf.one_hot(Y, nb_classes)"
   ]
  },
  {
   "cell_type": "markdown",
   "metadata": {},
   "source": [
    "Y값은 현재 한 개의 열로 구성되어 있다.<br><br>\n",
    "열에는 다음과 같은 정보가 있다. [개미, 파리, 모기, 강아지, 돼지, 고래] <br>\n",
    "이것을 원-핫 인코딩하면 다음과 같아진다. <br>\n",
    "개미 = [1,0,0,0,0,0] <br>\n",
    "파리 = [0,1,0,0,0,0] <br>\n",
    "...<br>\n",
    "고래 = [0,0,0,0,0,1]<br><br>\n",
    "\n",
    "다만 문제는 tf.one_hot 함수를 사용하면 rank가 1 늘어난다. 그래서 원하는 레이블의 형태와 달라진다.<br>\n",
    "해결방법은 바로 밑의 코드에서 다룬다.<br>\n",
    "**rank는 맨 앞의 대괄호 개수이다. (차원으로 생각하면 된다.) \n",
    "\n",
    "\n",
    "## (Question)One-hot 인코딩을 하면 뭐가 좋아질까요? 그냥 다중분류 수식 상에서 요구되는 조건인가?"
   ]
  },
  {
   "cell_type": "code",
   "execution_count": 11,
   "metadata": {},
   "outputs": [],
   "source": [
    "Y_one_hot = tf.reshape(Y_one_hot, [-1, nb_classes])"
   ]
  },
  {
   "cell_type": "markdown",
   "metadata": {},
   "source": [
    "바로 전 코드에서 rank의 개수가 rank가 3이 됐었다. (우리가 원하는건 rank=2)<br>\n",
    "reshape함수를 이용하면 우리가 원하는 레이블형태로 만들 수 있다.<br>\n",
    "[-1, nb_classes]에서 앞의 -1은 \"Everything (아무렇게나)\"를 의미한다고 한다. <br><br>\n",
    "다시 풀어서 해석하면 행의 개수는 몇개든 상관없고 nb_classes의 개수만큼 열을 만든다!"
   ]
  },
  {
   "cell_type": "code",
   "execution_count": 12,
   "metadata": {},
   "outputs": [],
   "source": [
    "W = tf.Variable(tf.random_normal([16, nb_classes]), name='weight')\n",
    "b = tf.Variable(tf.random_normal([nb_classes]), name='bias')"
   ]
  },
  {
   "cell_type": "markdown",
   "metadata": {},
   "source": [
    "회귀, 단일 분류문제를 주로 보다가 다중분류를 공부하다보니 W의 대괄호의 뒷 부분에 nb_classes가 나온게 어색한데(레이블 수) 익숙해지자.<br>\n",
    "b의 대괄호도 그렇다."
   ]
  },
  {
   "cell_type": "code",
   "execution_count": 15,
   "metadata": {},
   "outputs": [],
   "source": [
    "logits = tf.matmul(X, W) + b\n",
    "hypothesis = tf.nn.softmax(logits)"
   ]
  },
  {
   "cell_type": "markdown",
   "metadata": {},
   "source": [
    "<logits이라는 변수의 명칭을 검색한 결과><br>\n",
    "행렬곱을 연산해주는 함수로 y=Wx+b를 구현한 값을 logits으로 저장한다.<br>\n",
    "Softmax함수의 input으로 들어가는 순수한 값들을 보통 logits이라고 한다.\n",
    "\n",
    "https://rldhks6899.blog.me/221511946385"
   ]
  },
  {
   "cell_type": "code",
   "execution_count": 17,
   "metadata": {},
   "outputs": [],
   "source": [
    "cost_i = tf.nn.softmax_cross_entropy_with_logits(logits=logits, labels=Y_one_hot)"
   ]
  },
  {
   "cell_type": "markdown",
   "metadata": {},
   "source": [
    "* tf.nn.softmax와 다른 tf.nn.softmax_cross_entropy_with_logits 함수의 용도가 뭐지? <br>\n",
    "    - 아하 ! softmax의 cost를 구하는 매직코드 같은건가보다!   "
   ]
  },
  {
   "cell_type": "code",
   "execution_count": 18,
   "metadata": {},
   "outputs": [],
   "source": [
    "cost = tf.reduce_mean(cost_i)\n",
    "optimizer = tf.train.GradientDescentOptimizer(learning_rate=0.1).minimize(cost)"
   ]
  }
 ],
 "metadata": {
  "kernelspec": {
   "display_name": "Python 3",
   "language": "python",
   "name": "python3"
  },
  "language_info": {
   "codemirror_mode": {
    "name": "ipython",
    "version": 3
   },
   "file_extension": ".py",
   "mimetype": "text/x-python",
   "name": "python",
   "nbconvert_exporter": "python",
   "pygments_lexer": "ipython3",
   "version": "3.6.8"
  }
 },
 "nbformat": 4,
 "nbformat_minor": 2
}
