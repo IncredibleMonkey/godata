{
 "cells": [
  {
   "cell_type": "code",
   "execution_count": 47,
   "metadata": {},
   "outputs": [],
   "source": [
    "import tensorflow as tf"
   ]
  },
  {
   "cell_type": "markdown",
   "metadata": {},
   "source": [
    "# Tensorflow Operation"
   ]
  },
  {
   "cell_type": "markdown",
   "metadata": {},
   "source": [
    "TensorFlow은 세 단계를 걸쳐서 실행된다. <br>\n",
    "(1) constant 입력 > (2) session 만들기 > (3) session에서 constant로 만든 변수 run하기 "
   ]
  },
  {
   "cell_type": "code",
   "execution_count": 48,
   "metadata": {},
   "outputs": [],
   "source": [
    "hello = tf.constant(\"Hello, Tensorflow!\")"
   ]
  },
  {
   "cell_type": "code",
   "execution_count": 49,
   "metadata": {},
   "outputs": [
    {
     "data": {
      "text/plain": [
       "<tf.Tensor 'Const_5:0' shape=() dtype=string>"
      ]
     },
     "execution_count": 49,
     "metadata": {},
     "output_type": "execute_result"
    }
   ],
   "source": [
    "hello"
   ]
  },
  {
   "cell_type": "code",
   "execution_count": 50,
   "metadata": {},
   "outputs": [],
   "source": [
    "sess = tf.Session()"
   ]
  },
  {
   "cell_type": "code",
   "execution_count": 51,
   "metadata": {},
   "outputs": [
    {
     "data": {
      "text/plain": [
       "<tensorflow.python.client.session.Session at 0x230cd9becc0>"
      ]
     },
     "execution_count": 51,
     "metadata": {},
     "output_type": "execute_result"
    }
   ],
   "source": [
    "sess"
   ]
  },
  {
   "cell_type": "code",
   "execution_count": 52,
   "metadata": {},
   "outputs": [
    {
     "name": "stdout",
     "output_type": "stream",
     "text": [
      "b'Hello, Tensorflow!'\n"
     ]
    }
   ],
   "source": [
    "print(sess.run(hello))"
   ]
  },
  {
   "cell_type": "markdown",
   "metadata": {},
   "source": [
    "# Compuational Graph\n",
    "\n",
    "- Graph라는 의미가 기존에 알던 그래프와는 조금 다르다.<br>\n",
    "텐서플로에서는 Graph를 연산모음으로 정의된다.<br>\n",
    "\n",
    "위의 내용에서 보았듯, 텐서플로에서의 변수입력 - 연산 - 출력과정은 모두 상세하게 나뉘어있다.<br>\n",
    "그리고 Graph는 세 과정 중에 \"연산\"에 속한 변수들의 모음이라고 이해했다."
   ]
  },
  {
   "cell_type": "code",
   "execution_count": 53,
   "metadata": {},
   "outputs": [],
   "source": [
    "node1 = tf.constant(3.0)\n",
    "node2 = tf.constant(4.0)\n",
    "node3 = tf.add(node1, node2)"
   ]
  },
  {
   "cell_type": "markdown",
   "metadata": {},
   "source": [
    "node1와 node2에 각각 상수를 대입시켰다.<br>\n",
    "그리고 입력값을 받은 두 변수를 더하였다.<br><br>\n",
    "텐서플로우는 간단한 산수도 모든 단계를 거쳐야 한다는 것을 알 수 있었다."
   ]
  },
  {
   "cell_type": "code",
   "execution_count": 54,
   "metadata": {},
   "outputs": [
    {
     "name": "stdout",
     "output_type": "stream",
     "text": [
      "node1 :  Tensor(\"Const_6:0\", shape=(), dtype=float32)\n",
      "node2 :  Tensor(\"Const_7:0\", shape=(), dtype=float32)\n",
      "node3 :  Tensor(\"Add_1:0\", shape=(), dtype=float32)\n"
     ]
    }
   ],
   "source": [
    "print(\"node1 : \", node1)\n",
    "print(\"node2 : \", node2)\n",
    "print(\"node3 : \", node3)"
   ]
  },
  {
   "cell_type": "markdown",
   "metadata": {},
   "source": [
    "계산결과조차 일련의 단계를 거쳐야 한다는 것을 알 수 있다."
   ]
  },
  {
   "cell_type": "code",
   "execution_count": 55,
   "metadata": {},
   "outputs": [
    {
     "name": "stdout",
     "output_type": "stream",
     "text": [
      "sess.run(node1, node2) :  [3.0, 4.0]\n",
      "sess.run(node3 ) :  7.0\n"
     ]
    }
   ],
   "source": [
    "sess = tf.Session()\n",
    "print(\"sess.run(node1, node2) : \", sess.run([node1, node2]))\n",
    "print(\"sess.run(node3 ) : \", sess.run(node3))"
   ]
  },
  {
   "cell_type": "markdown",
   "metadata": {},
   "source": [
    "<계산결과 표현하기><br>\n",
    "1. 계산결과를 표현하기 위해서는 우선 Session()을 만들어야 한다.\" <br>\n",
    "2. Session에서 run을 이용하여 변수를 출력할 수 있다.<br>\n",
    "\n",
    "** run에 두 개 이상의 변수가 들어갈 수 있다. 다만, 리스트형태로 감싸줘야 한다."
   ]
  },
  {
   "cell_type": "markdown",
   "metadata": {},
   "source": [
    "# Placeholder\n",
    "위에서는 그래프(더하기, 빼기 등의 역할을 하는 변수)를 만들고 실행시키는 법을 배웠다.<br>\n",
    "\" a = 3 , b=3 > a+b = ? \"  : a와 b가 이미 정해져 있었고 a+b를 더하는 그래프를 만들었었다.<br>\n",
    "\n",
    "그런데 코드를 작성하다보면 a, b를 변수로 먼저 설정한 뒤 값을 입력해야 하는 경우가 많다.<br>\n",
    "1. 변수설정 : a, b\n",
    "2. 그래프 생성 : a+b = ?\n",
    "3. a와 b에 값을 대입 : a= 3, b=3\n",
    "\n",
    "얼핏 비슷해보이지만 변수에 값을 대입하는 순서에 큰 차이가 있다.<br>\n",
    "이때 사용되는 노드를 placehold라고 한다.\n"
   ]
  },
  {
   "cell_type": "code",
   "execution_count": 56,
   "metadata": {},
   "outputs": [],
   "source": [
    "# placeholder로 변수설정 \n",
    "a = tf.placeholder(tf.float32)\n",
    "b = tf.placeholder(tf.float32)"
   ]
  },
  {
   "cell_type": "code",
   "execution_count": 57,
   "metadata": {},
   "outputs": [],
   "source": [
    "# 그래프 생성\n",
    "adder_node = a+b"
   ]
  },
  {
   "cell_type": "code",
   "execution_count": 58,
   "metadata": {},
   "outputs": [
    {
     "data": {
      "text/plain": [
       "<tf.Tensor 'add_3:0' shape=<unknown> dtype=float32>"
      ]
     },
     "execution_count": 58,
     "metadata": {},
     "output_type": "execute_result"
    }
   ],
   "source": [
    "adder_node"
   ]
  },
  {
   "cell_type": "code",
   "execution_count": 59,
   "metadata": {},
   "outputs": [
    {
     "name": "stdout",
     "output_type": "stream",
     "text": [
      "7.5\n",
      "[4. 5.]\n",
      "[4. 6.]\n"
     ]
    }
   ],
   "source": [
    "# 값 출력하기\n",
    "sess = tf.Session()\n",
    "\n",
    "print(sess.run(adder_node, feed_dict={a: 3, b:4.5}))\n",
    "print(sess.run(adder_node, feed_dict={a: [1,2], b:3}))\n",
    "print(sess.run(adder_node, feed_dict={a: [1,2], b:[3,4]}))"
   ]
  },
  {
   "cell_type": "markdown",
   "metadata": {},
   "source": [
    "앞에서와 동일하게 session을 만들어 값을 출력한다.<br>\n",
    "다만, 다른 점은 그래프를 출력할 때가 되어서야 feed_dict에다 앞에서 설정한 변수에 값을 넣어준다.<br>\n",
    "이는 변수에 값을 넣어준 다음 그래프를 만들어 출력했던 것과 순서가 다르다.<br><br>\n",
    "\n",
    "##### feed_dict에 들어가는 값들의 특징을 보면 다음과 같다.\n",
    "1. 숫자 하나씩 대입하면 그냥 하나씩 더해진다.\n",
    "2. 변수 a를 리스트로 씌워 두개의 값을 입력하고 b에 값 하나만 입력하면 각각에 더하기가 적용된다\n",
    "3. a와 b에 같은 길이의 값을 넣으면 각각 더해진다."
   ]
  },
  {
   "cell_type": "markdown",
   "metadata": {},
   "source": [
    "# Rank(랭크), Shape(셰이프) 설명\n",
    "* Rank는 맨 앞의 대괄호의 개수\n",
    "* Shape은 그림 그려서 이해.. (깔끔한 설명 어디 없나요?)\n",
    "\n",
    "[1,2,3 ]이면 rank : 1 , shape : [3] <br>\n",
    "[[1,2,3],[4,5,6] rank : 2, shape : [2,3]<br>\n",
    "[[[1,2,3],[[7,8,9]]], rank : 3, shape : [1,2,3]<br>"
   ]
  }
 ],
 "metadata": {
  "kernelspec": {
   "display_name": "Python 3",
   "language": "python",
   "name": "python3"
  },
  "language_info": {
   "codemirror_mode": {
    "name": "ipython",
    "version": 3
   },
   "file_extension": ".py",
   "mimetype": "text/x-python",
   "name": "python",
   "nbconvert_exporter": "python",
   "pygments_lexer": "ipython3",
   "version": "3.6.8"
  }
 },
 "nbformat": 4,
 "nbformat_minor": 2
}
