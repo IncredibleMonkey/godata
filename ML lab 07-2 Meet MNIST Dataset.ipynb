{
 "cells": [
  {
   "cell_type": "markdown",
   "metadata": {},
   "source": [
    "(1) 데이터의 표현방식<br>\n",
    "https://docs.google.com/document/d/1nro5Xpkex6PSg92uW7iruz4hi2wtrh6a6yISxvGCm24/edit?usp=sharing\n",
    "\n",
    "(2) 데이터 읽어오기 (분할하여 불러오기)\n",
    "\n",
    "(3) 4분 30초 : cost function에서 axis=1이 무슨 의미지? <br>\n",
    "\n",
    "(4) Python 문법 중에 with ~ as 공부하기<br>\n",
    "\n",
    "(5) cpoch(에포) / batch 이 용어들은 전체 데이터에서 x개씩 나눠서 학습시키는 개념에서 출발함.<br>\n",
    "    Example : if you have 1000 training examples, and your batch size is 500, then it will take 2 iterations to complete 1 epoch.<br>\n",
    "        - batch size : 전체 데이터를 일정한 크기로 나눴을 때의 크기를 말함\n",
    "        - epoch : 전체 데이터에서 n개로 나눠서 학습을 시킬 때 전체 training data가 1회 학습됐을 때 1 epoch라고 한다. \n",
    "        \n",
    "(6) epoch가 늘어날수록 cost가 줄어드네.  >>> 음. 근데 데이터가 random으로 섞이지 않으면 epcoh가 늘어나더라도 의미없는거 아닌가? 같은 데이터로 학습시킨다고 뭐가 달라지나? 의견이 필요함"
   ]
  },
  {
   "cell_type": "markdown",
   "metadata": {},
   "source": [
    "# 데이터 불러오기"
   ]
  },
  {
   "cell_type": "code",
   "execution_count": 69,
   "metadata": {},
   "outputs": [],
   "source": [
    "import tensorflow as tf"
   ]
  },
  {
   "cell_type": "code",
   "execution_count": 70,
   "metadata": {},
   "outputs": [],
   "source": [
    "from tensorflow.examples.tutorials.mnist import input_data"
   ]
  },
  {
   "cell_type": "code",
   "execution_count": 71,
   "metadata": {},
   "outputs": [
    {
     "name": "stdout",
     "output_type": "stream",
     "text": [
      "Extracting MNIST_data/train-images-idx3-ubyte.gz\n",
      "Extracting MNIST_data/train-labels-idx1-ubyte.gz\n",
      "Extracting MNIST_data/t10k-images-idx3-ubyte.gz\n",
      "Extracting MNIST_data/t10k-labels-idx1-ubyte.gz\n"
     ]
    }
   ],
   "source": [
    "mnist = input_data.read_data_sets(\"MNIST_data/\", one_hot=True)"
   ]
  },
  {
   "cell_type": "markdown",
   "metadata": {},
   "source": [
    "# 경사하강을 위한 변수설정"
   ]
  },
  {
   "cell_type": "code",
   "execution_count": 72,
   "metadata": {},
   "outputs": [],
   "source": [
    "nb_classes = 10\n",
    "\n",
    "X = tf.placeholder(tf.float32, [None, 784])\n",
    "Y = tf.placeholder(tf.float32, [None, nb_classes])"
   ]
  },
  {
   "cell_type": "markdown",
   "metadata": {},
   "source": [
    "X,Y의 데이터가 입력되는 행/열의 위치가 계속 헷갈려서 적는다.<br>\n",
    "간단하다. 데이터 포인터(행)을 한 줄로 읽는다고 생각해보자. <br>\n",
    "그때 입력해야할 공간을 종이에 그려넣어보자.<br>\n",
    "위 코드에 따르면 훈련될 데이터(X)는 총 784개의 입력공간이 필요하다.<br>\n",
    "정답 데이터(Y)는 원-핫 인코딩으로 표현됐으니까 총 10개의 입력공간이 필요하다!"
   ]
  },
  {
   "cell_type": "code",
   "execution_count": 73,
   "metadata": {},
   "outputs": [],
   "source": [
    "W = tf.Variable(tf.random_normal([784, nb_classes]))\n",
    "b = tf.Variable(tf.random_normal([nb_classes]))"
   ]
  },
  {
   "cell_type": "code",
   "execution_count": 74,
   "metadata": {},
   "outputs": [],
   "source": [
    "hypothesis = tf.nn.softmax(tf.matmul(X, W) + b)"
   ]
  },
  {
   "cell_type": "code",
   "execution_count": 75,
   "metadata": {},
   "outputs": [],
   "source": [
    "cost = tf.reduce_mean(-tf.reduce_sum(Y * tf.log(hypothesis), axis=1))"
   ]
  },
  {
   "cell_type": "markdown",
   "metadata": {},
   "source": [
    "Corss entropy. 수식을 외우던지 적어두는 편이 낫겠다, 근데 axis = 1 무슨 의미?"
   ]
  },
  {
   "cell_type": "code",
   "execution_count": 76,
   "metadata": {},
   "outputs": [],
   "source": [
    "optimizer = tf.train.GradientDescentOptimizer(learning_rate=0.1).minimize(cost)"
   ]
  },
  {
   "cell_type": "markdown",
   "metadata": {},
   "source": [
    "# 점수측정을 위한 변수 생성"
   ]
  },
  {
   "cell_type": "code",
   "execution_count": 77,
   "metadata": {},
   "outputs": [
    {
     "name": "stdout",
     "output_type": "stream",
     "text": [
      "WARNING:tensorflow:From <ipython-input-77-71e3fd750f75>:1: arg_max (from tensorflow.python.ops.gen_math_ops) is deprecated and will be removed in a future version.\n",
      "Instructions for updating:\n",
      "Use `argmax` instead\n",
      "WARNING:tensorflow:From <ipython-input-77-71e3fd750f75>:1: arg_max (from tensorflow.python.ops.gen_math_ops) is deprecated and will be removed in a future version.\n",
      "Instructions for updating:\n",
      "Use `argmax` instead\n"
     ]
    }
   ],
   "source": [
    "is_correct = tf.equal(tf.arg_max(hypothesis, 1), tf.arg_max(Y, 1))"
   ]
  },
  {
   "cell_type": "markdown",
   "metadata": {},
   "source": [
    "is_correct : hypothes(예측값)와 Y(실제값)이 1로 서로 같은건 몇개니?"
   ]
  },
  {
   "cell_type": "code",
   "execution_count": 78,
   "metadata": {},
   "outputs": [],
   "source": [
    "accuracy = tf.reduce_mean(tf.cast(is_correct, tf.float32))"
   ]
  },
  {
   "cell_type": "markdown",
   "metadata": {},
   "source": [
    "accuracy(정확도) : is_correct의 수를 n으로 나누면 몇이니? "
   ]
  },
  {
   "cell_type": "markdown",
   "metadata": {},
   "source": [
    "# 큰 용량의 데이터 효율적으로 불러오기& 점수측정"
   ]
  },
  {
   "cell_type": "code",
   "execution_count": 79,
   "metadata": {},
   "outputs": [],
   "source": [
    "training_epochs = 15"
   ]
  },
  {
   "cell_type": "markdown",
   "metadata": {},
   "source": [
    "epoch : 전체 데이터에서 n개로 나눠서 학습을 시킬 때 전체 training data가 1회 학습됐을 때 1 epoch라고 한다. <br>\n",
    "즉, 전체 데이터를 15번 훈련시킨다는 의미이다."
   ]
  },
  {
   "cell_type": "code",
   "execution_count": 80,
   "metadata": {},
   "outputs": [],
   "source": [
    "batch_size = 100"
   ]
  },
  {
   "cell_type": "markdown",
   "metadata": {},
   "source": [
    "batch size : 전체 데이터를 일정한 크기로 나눴을 때의 크기를 말함\n",
    " "
   ]
  },
  {
   "cell_type": "code",
   "execution_count": 81,
   "metadata": {},
   "outputs": [
    {
     "name": "stdout",
     "output_type": "stream",
     "text": [
      "Epoch:  0001 cost = 2.760421296\n",
      "Epoch:  0002 cost = 1.116716174\n",
      "Epoch:  0003 cost = 0.889598542\n",
      "Epoch:  0004 cost = 0.777458741\n",
      "Epoch:  0005 cost = 0.705288055\n",
      "Epoch:  0006 cost = 0.654706435\n",
      "Epoch:  0007 cost = 0.616288431\n",
      "Epoch:  0008 cost = 0.585360908\n",
      "Epoch:  0009 cost = 0.560097825\n",
      "Epoch:  0010 cost = 0.538853061\n",
      "Epoch:  0011 cost = 0.520745813\n",
      "Epoch:  0012 cost = 0.505191663\n",
      "Epoch:  0013 cost = 0.491388314\n",
      "Epoch:  0014 cost = 0.479095412\n",
      "Epoch:  0015 cost = 0.468179831\n"
     ]
    }
   ],
   "source": [
    "with tf.Session() as sess:                  ## 파이썬 \"with 문법\"에 대해서 공부\n",
    "    sess.run(tf.global_variables_initializer())\n",
    "\n",
    "    for epoch in range(training_epochs):\n",
    "        avg_cost = 0\n",
    "        total_batch = int(mnist.train.num_examples / batch_size)\n",
    "        \n",
    "        for i in range(total_batch):\n",
    "            batch_xs, batch_ys = mnist.train.next_batch(batch_size)\n",
    "            c, _ = sess.run([cost, optimizer],\n",
    "                            feed_dict={X: batch_xs, Y:batch_ys})\n",
    "            avg_cost += c / total_batch     ## 적절한 w가 갱신되면서 cost가 개선된다. >> cost가 줄면 갱신된 w를 채택, 아니면 가만히 두고..\n",
    "            \n",
    "        \n",
    "        print('Epoch: ', '%04d' % (epoch +1),\n",
    "                                 'cost =', '{:.9f}'.format(avg_cost))\n",
    "    \n"
   ]
  },
  {
   "cell_type": "markdown",
   "metadata": {},
   "source": [
    "# 부록"
   ]
  },
  {
   "cell_type": "markdown",
   "metadata": {},
   "source": [
    "with문 설명"
   ]
  },
  {
   "cell_type": "markdown",
   "metadata": {},
   "source": [
    "순간순간 내용을 리셋하는 등의 작업할때 주로 사용되는 문법인거 같다.<br>\n",
    "예를들어 한글문서를 작성중에 <새로 만들기> 같은 기능이랄까?<br>"
   ]
  },
  {
   "cell_type": "code",
   "execution_count": 84,
   "metadata": {},
   "outputs": [],
   "source": [
    "with tf.Session() as sess:   \n",
    "    sess.run(tf.global_variables_initializer())"
   ]
  },
  {
   "cell_type": "markdown",
   "metadata": {},
   "source": [
    "tensorflow에서는 항상 Session을 초기화시켜서 사용한다고 했다.<br>\n",
    "그래서 with를 사용해줬다."
   ]
  }
 ],
 "metadata": {
  "kernelspec": {
   "display_name": "Python 3",
   "language": "python",
   "name": "python3"
  },
  "language_info": {
   "codemirror_mode": {
    "name": "ipython",
    "version": 3
   },
   "file_extension": ".py",
   "mimetype": "text/x-python",
   "name": "python",
   "nbconvert_exporter": "python",
   "pygments_lexer": "ipython3",
   "version": "3.6.8"
  }
 },
 "nbformat": 4,
 "nbformat_minor": 2
}
