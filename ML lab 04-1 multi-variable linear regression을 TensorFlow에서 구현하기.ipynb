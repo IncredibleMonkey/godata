{
 "cells": [
  {
   "cell_type": "markdown",
   "metadata": {},
   "source": [
    "Multi-variable linear Regression과 일반 linear Regression의 Hyphothesis, Cost의 원리가 비슷하다. <br>\n",
    "따라서 이번 챕터에서는 각 X,Y 데이터에 입력하는 shape의 논리에 집중해서 살펴보도록 한다."
   ]
  },
  {
   "cell_type": "markdown",
   "metadata": {},
   "source": [
    "lab 03에서 1e-5가 무슨 뜻이냐는 질문을 던졌었는데,<br>\n",
    "1e-5는 0.00001라는 뜻이다"
   ]
  },
  {
   "cell_type": "code",
   "execution_count": 15,
   "metadata": {},
   "outputs": [],
   "source": [
    "import tensorflow as tf"
   ]
  },
  {
   "cell_type": "code",
   "execution_count": 16,
   "metadata": {},
   "outputs": [],
   "source": [
    "x_data = [[73, 80, 75], [93, 88, 93],\n",
    "          [89, 91, 90], [96, 98, 10], [73, 66, 70]]\n",
    "\n",
    "y_data = [[152], [185], [180], [196], [142]]"
   ]
  },
  {
   "cell_type": "markdown",
   "metadata": {},
   "source": [
    "x_data의 shape은 [5,3]이다 <br>\n",
    "y_data의 shape은 [5,1]이다.<br>\n",
    "\n",
    "표로 이해하면 이렇다.<br>\n",
    "73 80 75        -   152<br>\n",
    "93 88 93        -   185<br>\n",
    "89 91 90        -   180<br>\n",
    "96 98 10        -   196<br>\n",
    "73 66 70        -   142<br><br>"
   ]
  },
  {
   "cell_type": "code",
   "execution_count": 17,
   "metadata": {},
   "outputs": [],
   "source": [
    "X = tf.placeholder(tf.float32, [None, 3])\n",
    "Y = tf.placeholder(tf.float32, [None, 1])"
   ]
  },
  {
   "cell_type": "markdown",
   "metadata": {},
   "source": [
    "x_data와 X를 비교해서 살펴보자<br>\n",
    "x_data의 shape은 [5,3]이었다. 그 중에서 행에 해당하는 \"5\"는 데이터의 개수니까 그다지 상관이 없다.<br>\n",
    "(각 행이 고객 한명의 데이터를 가지고 있다고 생각하면 이해하기 쉽다.)<br><br>\n",
    "그런 이유로 X에서의 shape에서 행에 해당하는 부분은 None으로 된 것이고, 열에 해당하는 부분은 3으로 동일하게 된 것이다. <br>"
   ]
  },
  {
   "cell_type": "code",
   "execution_count": 18,
   "metadata": {},
   "outputs": [],
   "source": [
    "W = tf.Variable(tf.random_normal([3, 1]), name = 'weight')\n",
    "b = tf.Variable(tf.random_normal([1]), name = 'bias')"
   ]
  },
  {
   "cell_type": "markdown",
   "metadata": {},
   "source": [
    "W와 b의 shape은 행렬간의 곱을 이해하면 된다.<br>\n",
    "이론강의를 정리해놓은 것인데 여기서 행렬곱에 대한 내용을 찾아보자\n",
    "https://docs.google.com/document/d/1nro5Xpkex6PSg92uW7iruz4hi2wtrh6a6yISxvGCm24/edit?usp=sharing<br>"
   ]
  },
  {
   "cell_type": "code",
   "execution_count": 19,
   "metadata": {},
   "outputs": [],
   "source": [
    "hypothesis = tf.matmul(X, W) + b"
   ]
  },
  {
   "cell_type": "markdown",
   "metadata": {},
   "source": [
    "matmul은 행렬곱을 의미한다. 위 코드에선 행렬 X * W의 그래프가 만들어진 것이다<br>"
   ]
  }
 ],
 "metadata": {
  "kernelspec": {
   "display_name": "Python 3",
   "language": "python",
   "name": "python3"
  },
  "language_info": {
   "codemirror_mode": {
    "name": "ipython",
    "version": 3
   },
   "file_extension": ".py",
   "mimetype": "text/x-python",
   "name": "python",
   "nbconvert_exporter": "python",
   "pygments_lexer": "ipython3",
   "version": "3.6.8"
  }
 },
 "nbformat": 4,
 "nbformat_minor": 2
}
